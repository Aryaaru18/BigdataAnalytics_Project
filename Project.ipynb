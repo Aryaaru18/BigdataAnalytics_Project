{
  "nbformat": 4,
  "nbformat_minor": 0,
  "metadata": {
    "colab": {
      "provenance": []
    },
    "kernelspec": {
      "name": "python3",
      "display_name": "Python 3"
    },
    "language_info": {
      "name": "python"
    }
  },
  "cells": [
    {
      "cell_type": "markdown",
      "source": [
        "#**INTRODUCTION**\n",
        "The objective of this study is to predict the placement outcomes of students based on their academic performance and other attributes. The dataset contains features like SSC Percentage (ssc_p), HSC Percentage (hsc_p), E-test Percentage (etest_p), Degree Percentage (degree_p), MBA Percentage (mba_p), Salary (salary), and categorical variables like Gender, Work Experience (workex), and Specialization. The target variable is the placement status: Placed or Not Placed. PySpark is utilised for data pre-processing and building a simple linear regression model for prediction.\n",
        "\n",
        "\n",
        "\n",
        "\n",
        "\n"
      ],
      "metadata": {
        "id": "520a9DCvgGAF"
      }
    },
    {
      "cell_type": "markdown",
      "source": [
        "#**DATA PREPARATION**\n",
        "\n",
        "The dataset underwent the following preprocessing steps.\n",
        "\n",
        "* Data Loading: The dataset is loaded into a PySpark DataFrame. Schema is automatically determined to determine the data type in each column.\n",
        "\n",
        "* Numerical and Categorical Columns: Targeted preprocessing based on categories of features: numerical and categorical.\n",
        "\n",
        "* Schema Conversion: Numerical columns are cast to float to be compatible with PySpark's ML library for use.\n",
        "\n",
        "* Handling Missing Values:\n",
        "\n",
        "1. Numerical Features: Missing values in numerical features have been imputed using PySpark's Imputer with strategy set to 'mean'\n",
        "2. Categorical Features: All missing values in categorical feature have been replaced with string \"Unknown\".\n",
        "* Target Variable Encoding: Status of the target variable is encoded with a binary column where placed is represented with 1 and not placed with 0.\n",
        "\n",
        "* Feature Engineering : The selected feature ssc_p, hsc_p, etest_p, degree_p, mba_p are brought together into one feature vector of PySpark using VectorAssembler.\n",
        "\n"
      ],
      "metadata": {
        "id": "-DOW_7V-A4JQ"
      }
    },
    {
      "cell_type": "markdown",
      "source": [
        "#**MODEL BULIDING**\n",
        "\n",
        "Configuration of the Linear regression model has been done as follows.\n",
        "\n",
        "* Train-Test Split: Split the clean dataset 70% and 30% for training and testing set respectively to ensure that the validation is robust.\n",
        "\n",
        "* Model Training: Trained the model using the features column as the predictors and placement_status as the target variable.\n",
        "\n",
        "* Coefficients and Intercept: The coefficients and intercept were obtained in order to understand how much a particular feature is contributing.\n",
        "\n",
        "* Training Evaluation: The model's performance was assessed on training data using metrics like RMSE and R-squared.\n",
        "\n",
        "#**MODEL EVALUATION**\n",
        "\n",
        "The trained model was evaluated on the test dataset using regression metrics:\n",
        "\n",
        "*Root Mean Squared Error (RMSE): Assesses the average magnitude of prediction errors.\n",
        "*Mean Squared Error (MSE): Evaluates the squared difference between predicted and actual values.\n",
        "*Mean Absolute Error (MAE): Captures the average magnitude of absolute errors.\n",
        "*R-squared (R²): This measures the degree to which the model explains the variance in the target variable.\n",
        "\n",
        "\n",
        "\n",
        "\n",
        "\n",
        "\n",
        "\n",
        "\n"
      ],
      "metadata": {
        "id": "atPr6TkzEf_P"
      }
    },
    {
      "cell_type": "code",
      "execution_count": null,
      "metadata": {
        "id": "dcCKloXVSIGw",
        "colab": {
          "base_uri": "https://localhost:8080/"
        },
        "outputId": "fa2bb6f9-85df-49ca-e940-eb18effd7b47"
      },
      "outputs": [
        {
          "output_type": "stream",
          "name": "stdout",
          "text": [
            "Path to dataset files: /root/.cache/kagglehub/datasets/alitaimoor572/placement-dataset-campus-recruitment/versions/1\n"
          ]
        }
      ],
      "source": [
        "import kagglehub\n",
        "\n",
        "# Download latest version\n",
        "path = kagglehub.dataset_download(\"alitaimoor572/placement-dataset-campus-recruitment\")\n",
        "\n",
        "print(\"Path to dataset files:\", path)"
      ]
    },
    {
      "cell_type": "code",
      "source": [
        "from pyspark.sql import SparkSession\n",
        "from pyspark.sql.functions import col, when, count\n",
        "from pyspark.ml.feature import VectorAssembler, Imputer\n",
        "from pyspark.ml.regression import LinearRegression\n",
        "from pyspark.ml.evaluation import RegressionEvaluator\n",
        "\n",
        "# Initialize Spark session\n",
        "spark = SparkSession.builder.appName(\"PlacementPrediction\").getOrCreate()\n",
        "\n",
        "# Load dataset\n",
        "placement_data = spark.read.csv(\"Placement_Data_Full_Class.csv\", header=True, inferSchema=True)\n",
        "placement_data.show(5)\n",
        "placement_data.printSchema()\n",
        "\n",
        "# Separate numerical and categorical columns\n",
        "numerical_columns = ['ssc_p', 'hsc_p', 'etest_p', 'degree_p', 'mba_p', 'salary']  # Adjust as needed\n",
        "categorical_columns = ['gender', 'ssc_b', 'hsc_b', 'hsc_s', 'degree_t', 'workex', 'specialisation', 'status']\n",
        "\n",
        "# Cast numerical columns to float\n",
        "placement_data_float = placement_data.select(\n",
        "    *(col(c).cast(\"float\").alias(c) for c in numerical_columns),\n",
        "    *categorical_columns\n",
        ")\n",
        "\n",
        "# Check for missing values\n",
        "placement_data_float.select(\n",
        "    [count(when(col(c).isNull(), c)).alias(c) for c in placement_data_float.columns]\n",
        ").show()\n",
        "\n",
        "# Impute missing values in numerical columns\n",
        "imputer = Imputer(inputCols=numerical_columns, outputCols=numerical_columns)\n",
        "placement_data_imputed = imputer.fit(placement_data_float).transform(placement_data_float)\n",
        "\n",
        "# Handle missing values in categorical columns\n",
        "for col_name in categorical_columns:\n",
        "    placement_data_imputed = placement_data_imputed.fillna({col_name: \"Unknown\"})\n",
        "\n",
        "# Encode the target variable ('status') as 1 for \"Placed\" and 0 for \"Not Placed\"\n",
        "placement_data_imputed = placement_data_imputed.withColumn(\n",
        "    \"placement_status\",\n",
        "    when(col(\"status\") == \"Placed\", 1).otherwise(0)\n",
        ")\n",
        "\n",
        "# Feature selection\n",
        "selected_features = ['ssc_p', 'hsc_p', 'etest_p', 'degree_p', 'mba_p']  # Adjust as needed\n",
        "feature_assembler = VectorAssembler(inputCols=selected_features, outputCol=\"features\")\n",
        "placement_data_features = feature_assembler.transform(placement_data_imputed)\n",
        "\n",
        "# Select the features and target variable\n",
        "placement_model_data = placement_data_features.select(\"features\", \"placement_status\")\n",
        "\n",
        "# Split data into training and test sets\n",
        "training_data, testing_data = placement_model_data.randomSplit([0.7, 0.3], seed=42)\n",
        "\n",
        "# Train a Linear Regression model\n",
        "lr_model = LinearRegression(featuresCol='features', labelCol='placement_status')\n",
        "placement_lr_model = lr_model.fit(training_data)\n",
        "\n",
        "# Model coefficients and intercept\n",
        "print(\"Coefficients: \" + str(placement_lr_model.coefficients))\n",
        "print(\"Intercept: \" + str(placement_lr_model.intercept))\n",
        "\n",
        "# Evaluate model on training data\n",
        "training_summary = placement_lr_model.summary\n",
        "print(f\"RMSE (Training): {training_summary.rootMeanSquaredError}\")\n",
        "print(f\"R-squared (Training): {training_summary.r2}\")\n",
        "\n",
        "# Make predictions on test data\n",
        "test_predictions = placement_lr_model.transform(testing_data)\n",
        "test_predictions.select(\"prediction\", \"placement_status\", \"features\").show(5)\n",
        "\n",
        "# Evaluate the model on test data\n",
        "metrics = [\"rmse\", \"mse\", \"mae\", \"r2\"]\n",
        "for metric in metrics:\n",
        "    evaluator = RegressionEvaluator(labelCol=\"placement_status\", predictionCol=\"prediction\", metricName=metric)\n",
        "    metric_score = evaluator.evaluate(test_predictions)\n",
        "    print(f\"{metric.upper()}: {metric_score}\")\n",
        "\n",
        "# Stop the Spark session\n",
        "spark.stop()\n"
      ],
      "metadata": {
        "colab": {
          "base_uri": "https://localhost:8080/"
        },
        "id": "MNlqjY9oaT32",
        "outputId": "f3174233-2836-4a8f-aa5b-acb8a18d955a"
      },
      "execution_count": null,
      "outputs": [
        {
          "output_type": "stream",
          "name": "stdout",
          "text": [
            "+-----+------+-----+-------+-----+-------+--------+--------+---------+------+-------+--------------+-----+----------+------+\n",
            "|sl_no|gender|ssc_p|  ssc_b|hsc_p|  hsc_b|   hsc_s|degree_p| degree_t|workex|etest_p|specialisation|mba_p|    status|salary|\n",
            "+-----+------+-----+-------+-----+-------+--------+--------+---------+------+-------+--------------+-----+----------+------+\n",
            "|    1|     M| 67.0| Others| 91.0| Others|Commerce|    58.0| Sci&Tech|    No|   55.0|        Mkt&HR| 58.8|    Placed|270000|\n",
            "|    2|     M|79.33|Central|78.33| Others| Science|   77.48| Sci&Tech|   Yes|   86.5|       Mkt&Fin|66.28|    Placed|200000|\n",
            "|    3|     M| 65.0|Central| 68.0|Central|    Arts|    64.0|Comm&Mgmt|    No|   75.0|       Mkt&Fin| 57.8|    Placed|250000|\n",
            "|    4|     M| 56.0|Central| 52.0|Central| Science|    52.0| Sci&Tech|    No|   66.0|        Mkt&HR|59.43|Not Placed|  NULL|\n",
            "|    5|     M| 85.8|Central| 73.6|Central|Commerce|    73.3|Comm&Mgmt|    No|   96.8|       Mkt&Fin| 55.5|    Placed|425000|\n",
            "+-----+------+-----+-------+-----+-------+--------+--------+---------+------+-------+--------------+-----+----------+------+\n",
            "only showing top 5 rows\n",
            "\n",
            "root\n",
            " |-- sl_no: integer (nullable = true)\n",
            " |-- gender: string (nullable = true)\n",
            " |-- ssc_p: double (nullable = true)\n",
            " |-- ssc_b: string (nullable = true)\n",
            " |-- hsc_p: double (nullable = true)\n",
            " |-- hsc_b: string (nullable = true)\n",
            " |-- hsc_s: string (nullable = true)\n",
            " |-- degree_p: double (nullable = true)\n",
            " |-- degree_t: string (nullable = true)\n",
            " |-- workex: string (nullable = true)\n",
            " |-- etest_p: double (nullable = true)\n",
            " |-- specialisation: string (nullable = true)\n",
            " |-- mba_p: double (nullable = true)\n",
            " |-- status: string (nullable = true)\n",
            " |-- salary: integer (nullable = true)\n",
            "\n",
            "+-----+-----+-------+--------+-----+------+------+-----+-----+-----+--------+------+--------------+------+\n",
            "|ssc_p|hsc_p|etest_p|degree_p|mba_p|salary|gender|ssc_b|hsc_b|hsc_s|degree_t|workex|specialisation|status|\n",
            "+-----+-----+-------+--------+-----+------+------+-----+-----+-----+--------+------+--------------+------+\n",
            "|    0|    0|      0|       0|    0|    67|     0|    0|    0|    0|       0|     0|             0|     0|\n",
            "+-----+-----+-------+--------+-----+------+------+-----+-----+-----+--------+------+--------------+------+\n",
            "\n",
            "Coefficients: [0.016104353785251053,0.012236836925641955,-0.00042515789386875946,0.01481954812848172,-0.023368315879562958]\n",
            "Intercept: -0.6775424236104658\n",
            "RMSE (Training): 0.3125904951641504\n",
            "R-squared (Training): 0.4696835123230708\n",
            "+-------------------+----------------+--------------------+\n",
            "|         prediction|placement_status|            features|\n",
            "+-------------------+----------------+--------------------+\n",
            "|0.20269610868886767|               0|[43.0,60.0,92.660...|\n",
            "|0.16942378793698298|               0|[47.0,55.0,62.0,6...|\n",
            "| 0.1797462471553004|               0|[48.0,51.0,60.0,5...|\n",
            "|0.32860179820636526|               0|[49.0,39.0,63.0,6...|\n",
            "|0.26599711495345335|               0|[51.0,54.0,60.0,6...|\n",
            "+-------------------+----------------+--------------------+\n",
            "only showing top 5 rows\n",
            "\n",
            "RMSE: 0.3763194344225909\n",
            "MSE: 0.14161631672413869\n",
            "MAE: 0.3136891888157679\n",
            "R2: 0.4333719557279002\n"
          ]
        }
      ]
    }
  ]
}